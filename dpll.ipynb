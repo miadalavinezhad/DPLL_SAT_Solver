{
  "cells": [
    {
      "cell_type": "markdown",
      "metadata": {
        "id": "XQgA45s2U60y"
      },
      "source": [
        "# David-Putnam-Logemann-Loveland (DPLL) satisfiability solver"
      ]
    },
    {
      "cell_type": "markdown",
      "metadata": {
        "id": "uRN-gDHAPR2C"
      },
      "source": [
        "## Unit Propagation\n",
        "Is the process of removing clauses containing the literal of a unit clause and omitting its negation from other clauses.\n",
        "\n",
        "*Unit Clause: A clause containing of only one literal*\n"
      ]
    },
    {
      "cell_type": "code",
      "execution_count": 1,
      "metadata": {
        "id": "lNQODC_m5Sjv"
      },
      "outputs": [],
      "source": [
        "# Unit Propagation\n",
        "\n",
        "def unit_propagation(formula):\n",
        "    unit_clauses = [clause[0] for clause in formula if len(clause) == 1]\n",
        "\n",
        "    clean_formula = []\n",
        "    for clause in formula:\n",
        "        for literal in unit_clauses:\n",
        "            if literal in clause:\n",
        "                break\n",
        "            elif -literal in clause:\n",
        "                clause.remove(-literal)\n",
        "        else:\n",
        "            clean_formula.append(clause)\n",
        "\n",
        "    return clean_formula"
      ]
    },
    {
      "cell_type": "markdown",
      "metadata": {
        "id": "gDYtQgCPRF3U"
      },
      "source": [
        "##Pure Literal Elimination\n",
        "Removing clauses containing a pure literal.\n",
        "\n",
        "*Pure Literal: A literal that appears in at least one clause but its complement does not appear in any clause*"
      ]
    },
    {
      "cell_type": "code",
      "execution_count": 2,
      "metadata": {
        "id": "qIrgiuJJlCi6"
      },
      "outputs": [],
      "source": [
        "# Pure Literal Elimination\n",
        "\n",
        "def pl_elimination(formula):\n",
        "    literals = [l for clauses in formula for l in clauses]\n",
        "    pure_literals = {l : 1 for l in literals if not -l in literals}\n",
        "\n",
        "    clean_formula = []\n",
        "    for clause in formula:\n",
        "        for literal in pure_literals.keys():\n",
        "            if literal in clause:\n",
        "                break\n",
        "        else:\n",
        "            clean_formula.append(clause)\n",
        "\n",
        "    return clean_formula"
      ]
    },
    {
      "cell_type": "markdown",
      "metadata": {
        "id": "DN_Vy4AlR6yr"
      },
      "source": [
        "##Superset Elimination\n",
        "Removing clauses which their subsume(s) exists in the formula."
      ]
    },
    {
      "cell_type": "code",
      "execution_count": 3,
      "metadata": {
        "id": "4j1TEsdDGNo4"
      },
      "outputs": [],
      "source": [
        "# Superset Elimination\n",
        "\n",
        "def superset_elimination(formula):\n",
        "    for clause in formula:\n",
        "        clause.sort()\n",
        "\n",
        "    clean_formula = []\n",
        "    for i1, c1 in enumerate(formula):\n",
        "        for i2, c2 in enumerate(formula):\n",
        "           if i1 != i2 and len(c2) <= len(c1) and c2 == c1[:len(c2)]:\n",
        "                break\n",
        "        else:\n",
        "            clean_formula.append(c1)\n",
        "\n",
        "    return clean_formula"
      ]
    },
    {
      "cell_type": "markdown",
      "metadata": {
        "id": "8GAn8U6pUF-w"
      },
      "source": [
        "##Choosing a literal based on its frequency"
      ]
    },
    {
      "cell_type": "code",
      "execution_count": null,
      "metadata": {
        "id": "QFM2N8P1EY2b"
      },
      "outputs": [],
      "source": [
        "# Most Frequent Literal\n",
        "from collections import Counter\n",
        "\n",
        "def frequent_literal(formula):\n",
        "    literals = [l for clause in formula for l in clause]\n",
        "    count_literals = Counter(literals)\n",
        "    return max(count_literals, key=count_literals.get)"
      ]
    },
    {
      "cell_type": "markdown",
      "metadata": {
        "id": "iRWZN3Q3UOl7"
      },
      "source": [
        "## DPLL Algorithm"
      ]
    },
    {
      "cell_type": "code",
      "execution_count": 6,
      "metadata": {
        "id": "JPmhCmtLUBRC"
      },
      "outputs": [],
      "source": [
        "# dpll algorithm\n",
        "import copy\n",
        "\n",
        "branching_default = True\n",
        "\n",
        "def dpll(formula, assignment=None):\n",
        "    if assignment == None:\n",
        "        assignment = {}\n",
        "\n",
        "    print('Assignment: ', assignment)\n",
        "\n",
        "    ### cleaning the input formula\n",
        "    print('Start Formula: ', formula)\n",
        "\n",
        "    ## applying unit Propagation\n",
        "    clean_formula = unit_propagation(copy.deepcopy(formula))\n",
        "    print('Cleaning process (1) U.P.: ', clean_formula)\n",
        "\n",
        "    ## applying pure literal elimination\n",
        "    clean_formula = pl_elimination(clean_formula)\n",
        "    print('Cleaning process (2) P.L.E.: ', clean_formula)\n",
        "\n",
        "    ## removing subsume\n",
        "    clean_formula = superset_elimination(clean_formula)\n",
        "    print('Cleaning process (3) Superset Elimination: ', clean_formula)\n",
        "\n",
        "    ### checking empty formula\n",
        "    if not clean_formula:\n",
        "        print('SAT', end='\\n--------------------------------------------\\n')\n",
        "        return True, assignment\n",
        "\n",
        "    ### checking for empty any clause\n",
        "    if any(len(clause) == 0 for clause in clean_formula):\n",
        "\n",
        "        ## Backtracking\n",
        "        while True and assignment:\n",
        "            # removing last assignment\n",
        "            last_assignment = assignment.popitem()\n",
        "            # conditions to stop backtracking\n",
        "            if not assignment or assignment[list(assignment.keys())[-1]] == branching_default or last_assignment[1] == branching_default:\n",
        "                break\n",
        "\n",
        "        print('UNSAT', end='\\n--------------------------------------------\\n')\n",
        "        return False, assignment\n",
        "\n",
        "    ### choose literal (most frequent)\n",
        "    chosen_literal = frequent_literal(clean_formula)\n",
        "    print('hosen literal: ', chosen_literal, end='\\n--------------------------------------------\\n')\n",
        "\n",
        "    ### add the chosen literal to the formula\n",
        "    new_formula_true ,new_formula_false = list(clean_formula), list(clean_formula)\n",
        "\n",
        "    ## check if the chosen literal is already in the formula or not\n",
        "    if not [chosen_literal] in new_formula_true:\n",
        "        new_formula_true.append([chosen_literal])\n",
        "\n",
        "    if not [-chosen_literal] in new_formula_false:\n",
        "        new_formula_false.append([-chosen_literal])\n",
        "\n",
        "    ### assigning true or false to the chosen literal\n",
        "    assignment[chosen_literal] = branching_default\n",
        "\n",
        "    if branching_default: new_formula = new_formula_true\n",
        "    else: new_formula = new_formula_false\n",
        "    answer = dpll(new_formula, assignment)\n",
        "\n",
        "    # check the result\n",
        "    if answer[0]:\n",
        "        return (True, answer[1])\n",
        "    else:\n",
        "        assignment[chosen_literal] = not branching_default\n",
        "\n",
        "        if branching_default: new_formula = new_formula_false\n",
        "        else: new_formula = new_formula_true\n",
        "        return dpll(new_formula, assignment)\n"
      ]
    }
  ],
  "metadata": {
    "colab": {
      "provenance": []
    },
    "kernelspec": {
      "display_name": "Python 3",
      "name": "python3"
    },
    "language_info": {
      "name": "python"
    }
  },
  "nbformat": 4,
  "nbformat_minor": 0
}
